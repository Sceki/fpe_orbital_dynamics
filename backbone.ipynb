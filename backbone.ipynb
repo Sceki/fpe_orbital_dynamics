{
 "cells": [
  {
   "cell_type": "code",
   "execution_count": 1,
   "id": "4f9606b1",
   "metadata": {},
   "outputs": [
    {
     "name": "stderr",
     "output_type": "stream",
     "text": [
      "/Users/ga00693/miniconda3/envs/phd_surrey/lib/python3.8/site-packages/tqdm/auto.py:21: TqdmWarning: IProgress not found. Please update jupyter and ipywidgets. See https://ipywidgets.readthedocs.io/en/stable/user_install.html\n",
      "  from .autonotebook import tqdm as notebook_tqdm\n"
     ]
    }
   ],
   "source": [
    "# For plotting\n",
    "import matplotlib.pyplot as plt\n",
    "import jax\n",
    "\n",
    "# To avoid copying things to GPU memory,\n",
    "# ideally allocate everything in torch on the GPU\n",
    "# and avoid non-torch function calls\n",
    "import torch\n",
    "import numpy as np\n",
    "import torchquad\n",
    "\n",
    "from torchquad import set_up_backend  # Necessary to enable GPU support\n",
    "from torchquad import Trapezoid, Simpson, Boole, MonteCarlo, VEGAS # The available integrators\n",
    "from torchquad.utils.set_precision import set_precision\n",
    "\n",
    "set_precision('float64')"
   ]
  },
  {
   "cell_type": "markdown",
   "id": "092c8c7d",
   "metadata": {},
   "source": [
    "## Bsplines"
   ]
  },
  {
   "cell_type": "code",
   "execution_count": 2,
   "id": "76f270f3",
   "metadata": {},
   "outputs": [],
   "source": [
    "def bspline_basis(j, n, t, x=None):\n",
    "    # B-spline basis function value B(j,n) at x.\n",
    "    #\n",
    "    # Input arguments:\n",
    "    # j:\n",
    "    #    interval index, 0 <= j < len(t)-n\n",
    "    # n:\n",
    "    #    B-spline order (2 for linear, 3 for quadratic, etc.)\n",
    "    # t:\n",
    "    #    knot vector\n",
    "    # x (optional):\n",
    "    #    value where the basis function is to be evaluated\n",
    "    #\n",
    "    # Output arguments:\n",
    "    # y:\n",
    "    #    B-spline basis function value, nonzero for a knot span of n\n",
    "    \n",
    "    if x is None:\n",
    "        x = torch.linspace(t[n-1], t[-n], 100)  # allocate points uniformly\n",
    "\n",
    "    y = bspline_basis_recurrence(j, n, t, x)\n",
    "    return y\n",
    "\n",
    "def bspline_basis_recurrence(j, n, t, x):\n",
    "    y = torch.zeros_like(x)\n",
    "\n",
    "    if n > 1:\n",
    "        b = bspline_basis(j, n-1, t, x)\n",
    "        dn = x - t[j]\n",
    "        dd = t[j+n-1] - t[j]\n",
    "\n",
    "        if dd != 0:  # indeterminate forms 0/0 are deemed to be zero\n",
    "            y += b * (dn / dd)\n",
    "\n",
    "        b = bspline_basis(j+1, n-1, t, x)\n",
    "        dn = t[j+n] - x\n",
    "        dd = t[j+n] - t[j+1]\n",
    "\n",
    "        if dd != 0:\n",
    "            y += b * (dn / dd)\n",
    "    elif t[j+1] < t[-1]:  # treat last element of knot vector as a special case\n",
    "        y[(t[j] <= x) & (x < t[j+1])] = 1\n",
    "    else:\n",
    "        y[t[j] <= x] = 1\n",
    "    return y\n",
    "\n",
    "def bspline_basis_deriv(j, n, t, x=None):\n",
    "    # B-spline basis function value B(j,n) at x.\n",
    "    #\n",
    "    # Input arguments:\n",
    "    # j:\n",
    "    #    interval index, 0 <= j < len(t)-n\n",
    "    # n:\n",
    "    #    B-spline order (2 for linear, 3 for quadratic, etc.)\n",
    "    # t:\n",
    "    #    knot vector\n",
    "    # x (optional):\n",
    "    #    value where the basis function is to be evaluated\n",
    "    #\n",
    "    # Output arguments:\n",
    "    # y:\n",
    "    #    B-spline basis function value, nonzero for a knot span of n\n",
    "    \n",
    "    if x is None:\n",
    "        x = np.linspace(t[n-1], t[-n], 100)  # allocate points uniformly\n",
    "\n",
    "    y = bspline_basis_recurrence_deriv(j, n, t, x)\n",
    "    return y\n",
    "\n",
    "def bspline_basis_recurrence_deriv(j, n, t, x):\n",
    "    y = torch.zeros_like(x)\n",
    "\n",
    "    if n > 1:\n",
    "        b = bspline_basis(j, n-1, t, x)\n",
    "        dn = 2\n",
    "        dd = t[j+n-1] - t[j]\n",
    "\n",
    "        if dd != 0:  # indeterminate forms 0/0 are deemed to be zero\n",
    "            y += b * (dn / dd)\n",
    "\n",
    "        b = bspline_basis(j+1, n-1, t, x)\n",
    "        dn = -2\n",
    "        dd = t[j+n] - t[j+1]\n",
    "\n",
    "        if dd != 0:\n",
    "            y += b * (dn / dd)\n",
    "    elif t[j+1] < t[-1]:  # treat the last element of the knot vector as a special case\n",
    "        y[(t[j] <= x) & (x < t[j+1])] = 1\n",
    "    else:\n",
    "        y[t[j] <= x] = 1\n",
    "\n",
    "    return y\n",
    "\n",
    "def bspline_basis_second_deriv(j, n, t, x=None):\n",
    "    # B-spline basis function value B(j,n) at x.\n",
    "    #\n",
    "    # Input arguments:\n",
    "    # j:\n",
    "    #    interval index, 0 <= j < len(t)-n\n",
    "    # n:\n",
    "    #    B-spline order (2 for linear, 3 for quadratic, etc.)\n",
    "    # t:\n",
    "    #    knot vector\n",
    "    # x (optional):\n",
    "    #    value where the basis function is to be evaluated\n",
    "    #\n",
    "    # Output arguments:\n",
    "    # y:\n",
    "    #    B-spline basis function value, nonzero for a knot span of n\n",
    "    \n",
    "\n",
    "    if x is None:\n",
    "        x = np.linspace(t[n-1], t[-n], 100)  # allocate points uniformly\n",
    "\n",
    "    y = bspline_basis_recurrence_second_deriv(j, n, t, x)\n",
    "    return y\n",
    "\n",
    "def bspline_basis_recurrence_second_deriv(j, n, t, x):\n",
    "    y = torch.zeros_like(x)\n",
    "\n",
    "    if n > 2:\n",
    "        b = bspline_basis(j, n-2, t, x)\n",
    "        dd = (t[j+n-1] - t[j]) * (t[j+n-2] - t[j])\n",
    "        dn = 2\n",
    "\n",
    "        if dd != 0:  # indeterminate forms 0/0 are deemed to be zero\n",
    "            y += b * (dn / dd)\n",
    "\n",
    "        b = bspline_basis(j+1, n-2, t, x)\n",
    "        dn = -2\n",
    "        dd = (t[j+n-1] - t[j]) * (t[j+n-1] - t[j+1])\n",
    "\n",
    "        if dd != 0:\n",
    "            y += b * (dn / dd)\n",
    "\n",
    "        b = bspline_basis(j+1, n-2, t, x)\n",
    "        dn = -2\n",
    "        dd = (t[j+n] - t[j+1]) * (t[j+n-1] - t[j+1])\n",
    "\n",
    "        if dd != 0:\n",
    "            y += b * (dn / dd)\n",
    "\n",
    "        b = bspline_basis(j+2, n-2, t, x)\n",
    "        dn = 2\n",
    "        dd = (t[j+n] - t[j+1]) * (t[j+n] - t[j+2])\n",
    "\n",
    "        if dd != 0:\n",
    "            y += b * (dn / dd)\n",
    "    elif t[j+1] < t[-1]:  # treat the last element of the knot vector as a special case\n",
    "        y[(t[j] <= x) & (x < t[j+1])] = 1\n",
    "    else:\n",
    "        y[t[j] <= x] = 1\n",
    "\n",
    "    return y"
   ]
  },
  {
   "cell_type": "code",
   "execution_count": 3,
   "id": "6c279610",
   "metadata": {},
   "outputs": [],
   "source": [
    "# B-spline degree\n",
    "degree = 3\n",
    "\n",
    "# Number of points on the curve\n",
    "num_points = 26\n",
    "# Example control points (replace with your own data)\n",
    "knots = np.linspace(0,1,num_points) \n",
    "\n",
    "# Interpolate the B-spline curve\n",
    "curve_points = bspline_basis(20,degree,knots,torch.linspace(0,1,1000))\n",
    "d_curve_points = bspline_basis_deriv(20,degree,knots,torch.linspace(0,1,1000))\n",
    "dd_curve_points = bspline_basis_second_deriv(20,degree,knots,torch.linspace(0,1,1000))"
   ]
  },
  {
   "cell_type": "code",
   "execution_count": 4,
   "id": "637f46ce",
   "metadata": {},
   "outputs": [
    {
     "data": {
      "text/plain": [
       "[<matplotlib.lines.Line2D at 0x17848e790>]"
      ]
     },
     "execution_count": 4,
     "metadata": {},
     "output_type": "execute_result"
    },
    {
     "data": {
      "image/png": "[encoded data removed]",
      "text/plain": [
       "<Figure size 640x480 with 1 Axes>"
      ]
     },
     "metadata": {},
     "output_type": "display_data"
    },
    {
     "data": {
      "image/png": "[encoded data removed]",
      "text/plain": [
       "<Figure size 640x480 with 1 Axes>"
      ]
     },
     "metadata": {},
     "output_type": "display_data"
    },
    {
     "data": {
      "image/png": "[encoded data removed]",
      "text/plain": [
       "<Figure size 640x480 with 1 Axes>"
      ]
     },
     "metadata": {},
     "output_type": "display_data"
    }
   ],
   "source": [
    "plt.plot(np.linspace(0,1,1000),curve_points)\n",
    "plt.figure()\n",
    "plt.plot(np.linspace(0,1,1000),d_curve_points)\n",
    "plt.figure()\n",
    "plt.plot(np.linspace(0,1,1000),dd_curve_points)"
   ]
  },
  {
   "cell_type": "code",
   "execution_count": 4,
   "id": "37a90561",
   "metadata": {},
   "outputs": [],
   "source": [
    "integration_domain=torch.tensor([[1.041,1.049],[-0.001,0.001],[-0.001,0.001]])\n"
   ]
  },
  {
   "cell_type": "markdown",
   "id": "6598572a",
   "metadata": {},
   "source": [
    "## Multi-Index"
   ]
  },
  {
   "cell_type": "code",
   "execution_count": 5,
   "id": "6dcaa62a",
   "metadata": {},
   "outputs": [],
   "source": [
    "type_basis=[3,3,3] #[n+1,n+1,n+1], where n is the order of the basis\n",
    "n_intervals=[25,25,25] #number of intervals in which the B-spline are constructed (i.e., knot vector) [one x dimension]\n",
    "nbasis1=n_intervals[0]-type_basis[0]\n",
    "nbasis2=n_intervals[1]-type_basis[1]\n",
    "nbasis3=n_intervals[2]-type_basis[2]\n",
    "nbasis = nbasis1*nbasis2*nbasis3\n",
    "\n",
    "knots_1=np.linspace(integration_domain[0][0],integration_domain[0][1],n_intervals[0])\n",
    "knots_2=np.linspace(integration_domain[1][0],integration_domain[1][1],n_intervals[1])\n",
    "knots_3=np.linspace(integration_domain[2][0],integration_domain[2][1],n_intervals[2])\n",
    "\n",
    "#x1 = np.linspace(LB_x,UB_x,20)\n",
    "#x2 = np.linspace(LB_y,UB_y,20)\n",
    "#x3 = np.linspace(LB_z,UB_z,20)\n",
    "\n",
    "#X1,X2,X3 = np.meshgrid(a_points,P1_points,P2_points)\n",
    "#XX = [X1[:], X2[:], X3[:]]\n",
    "#XX=np.array(XX).reshape(8000,3)\n",
    "Ind1, Ind2, Ind3 = np.meshgrid(np.arange(nbasis1), np.arange(nbasis2), np.arange(nbasis3))\n",
    "Indexes = np.column_stack((Ind1.ravel(), Ind3.ravel(), Ind2.ravel()))"
   ]
  },
  {
   "cell_type": "markdown",
   "id": "fdaaee29",
   "metadata": {},
   "source": [
    "## Dynamics"
   ]
  },
  {
   "cell_type": "code",
   "execution_count": 4,
   "id": "43de11e3",
   "metadata": {},
   "outputs": [],
   "source": [
    "import numpy as np\n",
    "import pandas as pd\n",
    "import scipy\n",
    "\n",
    "#L_file= scipy.io.loadmat('L_quasi_rand_number_1k.mat')\n",
    "#L_list=np.array(L_file['L']).reshape(len(L_file['L']),)\n",
    "from numba import njit\n",
    "@njit\n",
    "def f_dyn(x,t):\n",
    "    L_list=np.array([-3.14159265,  0.        , -1.57079633,  1.57079633, -2.35619449,\n",
    "        0.78539816, -0.78539816,  2.35619449, -2.74889357,  0.39269908,\n",
    "       -1.17809725,  1.96349541, -1.96349541,  1.17809725, -0.39269908,\n",
    "        2.74889357, -2.94524311,  0.19634954, -1.37444679,  1.76714587,\n",
    "       -2.15984495,  0.9817477 , -0.58904862,  2.55254403, -2.55254403,\n",
    "        0.58904862, -0.9817477 ,  2.15984495, -1.76714587,  1.37444679,\n",
    "       -0.19634954,  2.94524311, -3.04341788,  0.09817477, -1.47262156,\n",
    "        1.6689711 , -2.25801972,  0.88357293, -0.68722339,  2.45436926,\n",
    "       -2.6507188 ,  0.49087385, -1.07992247,  2.06167018, -1.86532064,\n",
    "        1.27627202, -0.29452431,  2.84706834, -2.84706834,  0.29452431,\n",
    "       -1.27627202,  1.86532064, -2.06167018,  1.07992247, -0.49087385,\n",
    "        2.6507188 , -2.45436926,  0.68722339, -0.88357293,  2.25801972,\n",
    "       -1.6689711 ,  1.47262156, -0.09817477,  3.04341788, -3.09250527,\n",
    "        0.04908739, -1.52170894,  1.61988371, -2.3071071 ,  0.83448555,\n",
    "       -0.73631078,  2.40528188, -2.69980619,  0.44178647, -1.12900986,\n",
    "        2.01258279, -1.91440802,  1.22718463, -0.3436117 ,  2.79798096,\n",
    "       -2.89615573,  0.24543693, -1.3253594 ,  1.81623325, -2.11075756,\n",
    "        1.03083509, -0.53996124,  2.60163142, -2.50345665,  0.63813601,\n",
    "       -0.93266032,  2.20893233, -1.71805848,  1.42353417, -0.14726216,\n",
    "        2.9943305 , -2.9943305 ,  0.14726216, -1.42353417,  1.71805848,\n",
    "       -2.20893233,  0.93266032, -0.63813601,  2.50345665, -2.60163142,\n",
    "        0.53996124, -1.03083509,  2.11075756, -1.81623325,  1.3253594 ,\n",
    "       -0.24543693,  2.89615573, -2.79798096,  0.3436117 , -1.22718463,\n",
    "        1.91440802, -2.01258279,  1.12900986, -0.44178647,  2.69980619,\n",
    "       -2.40528188,  0.73631078, -0.83448555,  2.3071071 , -1.61988371,\n",
    "        1.52170894, -0.04908739,  3.09250527, -3.11704896,  0.02454369,\n",
    "       -1.54625263,  1.59534002, -2.3316508 ,  0.80994186, -0.76085447,\n",
    "        2.38073818, -2.72434988,  0.41724277, -1.15355355,  1.9880391 ,\n",
    "       -1.93895172,  1.20264094, -0.36815539,  2.77343726, -2.92069942,\n",
    "        0.22089323, -1.34990309,  1.79168956, -2.13530126,  1.0062914 ,\n",
    "       -0.56450493,  2.57708772, -2.52800034,  0.61359232, -0.95720401,\n",
    "        2.18438864, -1.74260218,  1.39899048, -0.17180585,  2.96978681,\n",
    "       -3.01887419,  0.12271846, -1.44807786,  1.69351479, -2.23347603,\n",
    "        0.90811663, -0.6626797 ,  2.47891295, -2.62617511,  0.51541754,\n",
    "       -1.05537878,  2.08621387, -1.84077695,  1.30081571, -0.26998062,\n",
    "        2.87161203, -2.82252465,  0.319068  , -1.25172832,  1.88986433,\n",
    "       -2.03712649,  1.10446617, -0.46633016,  2.67526249, -2.42982557,\n",
    "        0.71176709, -0.85902924,  2.28256341, -1.6444274 ,  1.49716525,\n",
    "       -0.07363108,  3.06796158, -3.06796158,  0.07363108, -1.49716525,\n",
    "        1.6444274 , -2.28256341,  0.85902924, -0.71176709,  2.42982557,\n",
    "       -2.67526249,  0.46633016, -1.10446617,  2.03712649, -1.88986433,\n",
    "        1.25172832, -0.319068  ,  2.82252465, -2.87161203,  0.26998062,\n",
    "       -1.30081571,  1.84077695, -2.08621387,  1.05537878, -0.51541754,\n",
    "        2.62617511, -2.47891295,  0.6626797 , -0.90811663,  2.23347603,\n",
    "       -1.69351479,  1.44807786, -0.12271846,  3.01887419, -2.96978681,\n",
    "        0.17180585, -1.39899048,  1.74260218, -2.18438864,  0.95720401,\n",
    "       -0.61359232,  2.52800034, -2.57708772,  0.56450493, -1.0062914 ,\n",
    "        2.13530126, -1.79168956,  1.34990309, -0.22089323,  2.92069942,\n",
    "       -2.77343726,  0.36815539, -1.20264094,  1.93895172, -1.9880391 ,\n",
    "        1.15355355, -0.41724277,  2.72434988, -2.38073818,  0.76085447,\n",
    "       -0.80994186,  2.3316508 , -1.59534002,  1.54625263, -0.02454369,\n",
    "        3.11704896, -3.12932081,  0.01227185, -1.55852448,  1.58306817,\n",
    "       -2.34392264,  0.79767001, -0.77312632,  2.36846634, -2.73662173,\n",
    "        0.40497093, -1.1658254 ,  1.97576725, -1.95122356,  1.19036909,\n",
    "       -0.38042724,  2.76116542, -2.93297127,  0.20862139, -1.36217494,\n",
    "        1.77941771, -2.1475731 ,  0.99401955, -0.57677678,  2.56481588,\n",
    "       -2.54027218,  0.60132047, -0.96947586,  2.1721168 , -1.75487402,\n",
    "        1.38671863, -0.18407769,  2.95751496, -3.03114604,  0.11044662,\n",
    "       -1.46034971,  1.68124294, -2.24574787,  0.89584478, -0.67495155,\n",
    "        2.46664111, -2.63844696,  0.5031457 , -1.06765063,  2.07394203,\n",
    "       -1.85304879,  1.28854386, -0.28225246,  2.85934019, -2.8347965 ,\n",
    "        0.30679616, -1.26400017,  1.87759248, -2.04939833,  1.09219432,\n",
    "       -0.47860201,  2.66299065, -2.44209741,  0.69949524, -0.87130109,\n",
    "        2.27029157, -1.65669925,  1.4848934 , -0.08590292,  3.05568973,\n",
    "       -3.08023342,  0.06135923, -1.5094371 ,  1.63215556, -2.29483526,\n",
    "        0.84675739, -0.72403893,  2.41755372, -2.68753434,  0.45405831,\n",
    "       -1.11673801,  2.02485464, -1.90213618,  1.23945648, -0.33133985,\n",
    "        2.8102528 , -2.88388388,  0.25770877, -1.31308755,  1.8285051 ,\n",
    "       -2.09848572,  1.04310694, -0.52768939,  2.61390326, -2.4911848 ,\n",
    "        0.65040785, -0.92038847,  2.22120418, -1.70578664,  1.43580602,\n",
    "       -0.13499031,  3.00660234, -2.98205865,  0.159534  , -1.41126232,\n",
    "        1.73033033, -2.19666049,  0.94493217, -0.62586416,  2.51572849,\n",
    "       -2.58935957,  0.55223308, -1.01856324,  2.12302941, -1.80396141,\n",
    "        1.33763125, -0.23316508,  2.90842757, -2.78570911,  0.35588354,\n",
    "       -1.21491278,  1.92667987, -2.00031095,  1.14128171, -0.42951462,\n",
    "        2.71207803, -2.39301003,  0.74858262, -0.8222137 ,  2.31937895,\n",
    "       -1.60761187,  1.53398079, -0.03681554,  3.10477711, -3.10477711,\n",
    "        0.03681554, -1.53398079,  1.60761187, -2.31937895,  0.8222137 ,\n",
    "       -0.74858262,  2.39301003, -2.71207803,  0.42951462, -1.14128171,\n",
    "        2.00031095, -1.92667987,  1.21491278, -0.35588354,  2.78570911,\n",
    "       -2.90842757,  0.23316508, -1.33763125,  1.80396141, -2.12302941,\n",
    "        1.01856324, -0.55223308,  2.58935957, -2.51572849,  0.62586416,\n",
    "       -0.94493217,  2.19666049, -1.73033033,  1.41126232, -0.159534  ,\n",
    "        2.98205865, -3.00660234,  0.13499031, -1.43580602,  1.70578664,\n",
    "       -2.22120418,  0.92038847, -0.65040785,  2.4911848 , -2.61390326,\n",
    "        0.52768939, -1.04310694,  2.09848572, -1.8285051 ,  1.31308755,\n",
    "       -0.25770877,  2.88388388, -2.8102528 ,  0.33133985, -1.23945648,\n",
    "        1.90213618, -2.02485464,  1.11673801, -0.45405831,  2.68753434,\n",
    "       -2.41755372,  0.72403893, -0.84675739,  2.29483526, -1.63215556,\n",
    "        1.5094371 , -0.06135923,  3.08023342, -3.05568973,  0.08590292,\n",
    "       -1.4848934 ,  1.65669925, -2.27029157,  0.87130109, -0.69949524,\n",
    "        2.44209741, -2.66299065,  0.47860201, -1.09219432,  2.04939833,\n",
    "       -1.87759248,  1.26400017, -0.30679616,  2.8347965 , -2.85934019,\n",
    "        0.28225246, -1.28854386,  1.85304879, -2.07394203,  1.06765063,\n",
    "       -0.5031457 ,  2.63844696, -2.46664111,  0.67495155, -0.89584478,\n",
    "        2.24574787, -1.68124294,  1.46034971, -0.11044662,  3.03114604,\n",
    "       -2.95751496,  0.18407769, -1.38671863,  1.75487402, -2.1721168 ,\n",
    "        0.96947586, -0.60132047,  2.54027218, -2.56481588,  0.57677678,\n",
    "       -0.99401955,  2.1475731 , -1.77941771,  1.36217494, -0.20862139,\n",
    "        2.93297127, -2.76116542,  0.38042724, -1.19036909,  1.95122356,\n",
    "       -1.97576725,  1.1658254 , -0.40497093,  2.73662173, -2.36846634,\n",
    "        0.77312632, -0.79767001,  2.34392264, -1.58306817,  1.55852448,\n",
    "       -0.01227185,  3.12932081, -3.13545673,  0.00613592, -1.5646604 ,\n",
    "        1.57693225, -2.35005857,  0.79153409, -0.77926224,  2.36233041,\n",
    "       -2.74275765,  0.398835  , -1.17196132,  1.96963133, -1.95735949,\n",
    "        1.18423317, -0.38656316,  2.7550295 , -2.93910719,  0.20248546,\n",
    "       -1.36831086,  1.77328179, -2.15370903,  0.98788363, -0.5829127 ,\n",
    "        2.55867995, -2.54640811,  0.59518455, -0.97561178,  2.16598087,\n",
    "       -1.76100994,  1.38058271, -0.19021362,  2.95137904, -3.03728196,\n",
    "        0.10431069, -1.46648563,  1.67510702, -2.2518838 ,  0.88970886,\n",
    "       -0.68108747,  2.46050518, -2.64458288,  0.49700978, -1.07378655,\n",
    "        2.0678061 , -1.85918471,  1.28240794, -0.28838839,  2.85320427,\n",
    "       -2.84093242,  0.30066023, -1.27013609,  1.87145656, -2.05553426,\n",
    "        1.0860584 , -0.48473793,  2.65685472, -2.44823334,  0.69335932,\n",
    "       -0.87743701,  2.26415564, -1.66283517,  1.47875748, -0.09203885,\n",
    "        3.04955381, -3.08636935,  0.05522331, -1.51557302,  1.62601964,\n",
    "       -2.30097118,  0.84062147, -0.73017486,  2.4114178 , -2.69367026,\n",
    "        0.44792239, -1.12287394,  2.01871872, -1.9082721 ,  1.23332055,\n",
    "       -0.33747577,  2.80411688, -2.8900198 ,  0.25157285, -1.31922348,\n",
    "        1.82236918, -2.10462164,  1.03697101, -0.53382531,  2.60776734,\n",
    "       -2.49732072,  0.64427193, -0.9265244 ,  2.21506826, -1.71192256,\n",
    "        1.42967009, -0.14112623,  3.00046642, -2.98819457,  0.15339808,\n",
    "       -1.41739825,  1.72419441, -2.20279641,  0.93879624, -0.63200008,\n",
    "        2.50959257, -2.59549549,  0.54609716, -1.02469917,  2.11689349,\n",
    "       -1.81009733,  1.33149532, -0.239301  ,  2.90229165, -2.79184503,\n",
    "        0.34974762, -1.22104871,  1.92054395, -2.00644687,  1.13514578,\n",
    "       -0.43565054,  2.70594211, -2.39914595,  0.7424467 , -0.82834963,\n",
    "        2.31324303, -1.61374779,  1.52784486, -0.04295146,  3.09864119,\n",
    "       -3.11091304,  0.03067962, -1.54011671,  1.60147594, -2.32551487,\n",
    "        0.81607778, -0.75471855,  2.38687411, -2.71821396,  0.4233787 ,\n",
    "       -1.14741763,  1.99417502, -1.93281579,  1.20877686, -0.36201947,\n",
    "        2.77957319, -2.9145635 ,  0.22702916, -1.34376717,  1.79782548,\n",
    "       -2.12916533,  1.01242732, -0.55836901,  2.58322365, -2.52186442,\n",
    "        0.61972824, -0.95106809,  2.19052457, -1.73646625,  1.4051264 ,\n",
    "       -0.16566993,  2.97592273, -3.01273827,  0.12885439, -1.44194194,\n",
    "        1.69965071, -2.2273401 ,  0.91425255, -0.65654378,  2.48504888,\n",
    "       -2.62003919,  0.52155347, -1.04924286,  2.09234979, -1.83464102,\n",
    "        1.30695163, -0.2638447 ,  2.87774796, -2.81638873,  0.32520393,\n",
    "       -1.2455924 ,  1.89600025, -2.03099056,  1.11060209, -0.46019424,\n",
    "        2.68139842, -2.42368964,  0.71790301, -0.85289332,  2.28869934,\n",
    "       -1.63829148,  1.50330117, -0.06749515,  3.0740975 , -3.06182565,\n",
    "        0.079767  , -1.49102933,  1.65056333, -2.27642749,  0.86516516,\n",
    "       -0.70563116,  2.43596149, -2.66912657,  0.47246608, -1.09833024,\n",
    "        2.04326241, -1.88372841,  1.25786425, -0.31293208,  2.82866057,\n",
    "       -2.86547611,  0.27611654, -1.29467978,  1.84691287, -2.08007795,\n",
    "        1.06151471, -0.50928162,  2.63231103, -2.47277703,  0.66881562,\n",
    "       -0.9019807 ,  2.23961195, -1.68737887,  1.45421379, -0.11658254,\n",
    "        3.02501011, -2.96365088,  0.17794177, -1.39285456,  1.7487381 ,\n",
    "       -2.17825272,  0.96333993, -0.60745639,  2.53413626, -2.5709518 ,\n",
    "        0.57064085, -1.00015547,  2.14143718, -1.78555364,  1.35603902,\n",
    "       -0.21475731,  2.92683534, -2.76730134,  0.37429131, -1.19650501,\n",
    "        1.94508764, -1.98190318,  1.15968948, -0.41110685,  2.7304858 ,\n",
    "       -2.37460226,  0.76699039, -0.80380593,  2.33778672, -1.5892041 ,\n",
    "        1.55238856, -0.01840777,  3.12318488, -3.12318488,  0.01840777,\n",
    "       -1.55238856,  1.5892041 , -2.33778672,  0.80380593, -0.76699039,\n",
    "        2.37460226, -2.7304858 ,  0.41110685, -1.15968948,  1.98190318,\n",
    "       -1.94508764,  1.19650501, -0.37429131,  2.76730134, -2.92683534,\n",
    "        0.21475731, -1.35603902,  1.78555364, -2.14143718,  1.00015547,\n",
    "       -0.57064085,  2.5709518 , -2.53413626,  0.60745639, -0.96333993,\n",
    "        2.17825272, -1.7487381 ,  1.39285456, -0.17794177,  2.96365088,\n",
    "       -3.02501011,  0.11658254, -1.45421379,  1.68737887, -2.23961195,\n",
    "        0.9019807 , -0.66881562,  2.47277703, -2.63231103,  0.50928162,\n",
    "       -1.06151471,  2.08007795, -1.84691287,  1.29467978, -0.27611654,\n",
    "        2.86547611, -2.82866057,  0.31293208, -1.25786425,  1.88372841,\n",
    "       -2.04326241,  1.09833024, -0.47246608,  2.66912657, -2.43596149,\n",
    "        0.70563116, -0.86516516,  2.27642749, -1.65056333,  1.49102933,\n",
    "       -0.079767  ,  3.06182565, -3.0740975 ,  0.06749515, -1.50330117,\n",
    "        1.63829148, -2.28869934,  0.85289332, -0.71790301,  2.42368964,\n",
    "       -2.68139842,  0.46019424, -1.11060209,  2.03099056, -1.89600025,\n",
    "        1.2455924 , -0.32520393,  2.81638873, -2.87774796,  0.2638447 ,\n",
    "       -1.30695163,  1.83464102, -2.09234979,  1.04924286, -0.52155347,\n",
    "        2.62003919, -2.48504888,  0.65654378, -0.91425255,  2.2273401 ,\n",
    "       -1.69965071,  1.44194194, -0.12885439,  3.01273827, -2.97592273,\n",
    "        0.16566993, -1.4051264 ,  1.73646625, -2.19052457,  0.95106809,\n",
    "       -0.61972824,  2.52186442, -2.58322365,  0.55836901, -1.01242732,\n",
    "        2.12916533, -1.79782548,  1.34376717, -0.22702916,  2.9145635 ,\n",
    "       -2.77957319,  0.36201947, -1.20877686,  1.93281579, -1.99417502,\n",
    "        1.14741763, -0.4233787 ,  2.71821396, -2.38687411,  0.75471855,\n",
    "       -0.81607778,  2.32551487, -1.60147594,  1.54011671, -0.03067962,\n",
    "        3.11091304, -3.09864119,  0.04295146, -1.52784486,  1.61374779,\n",
    "       -2.31324303,  0.82834963, -0.7424467 ,  2.39914595, -2.70594211,\n",
    "        0.43565054, -1.13514578,  2.00644687, -1.92054395,  1.22104871,\n",
    "       -0.34974762,  2.79184503, -2.90229165,  0.239301  , -1.33149532,\n",
    "        1.81009733, -2.11689349,  1.02469917, -0.54609716,  2.59549549,\n",
    "       -2.50959257,  0.63200008, -0.93879624,  2.20279641, -1.72419441,\n",
    "        1.41739825, -0.15339808,  2.98819457, -3.00046642,  0.14112623,\n",
    "       -1.42967009,  1.71192256, -2.21506826,  0.9265244 , -0.64427193,\n",
    "        2.49732072, -2.60776734,  0.53382531, -1.03697101,  2.10462164,\n",
    "       -1.82236918,  1.31922348, -0.25157285,  2.8900198 , -2.80411688,\n",
    "        0.33747577, -1.23332055,  1.9082721 , -2.01871872,  1.12287394,\n",
    "       -0.44792239,  2.69367026, -2.4114178 ,  0.73017486, -0.84062147,\n",
    "        2.30097118, -1.62601964,  1.51557302, -0.05522331,  3.08636935,\n",
    "       -3.04955381,  0.09203885, -1.47875748,  1.66283517, -2.26415564,\n",
    "        0.87743701, -0.69335932,  2.44823334, -2.65685472,  0.48473793,\n",
    "       -1.0860584 ,  2.05553426, -1.87145656,  1.27013609, -0.30066023,\n",
    "        2.84093242, -2.85320427,  0.28838839, -1.28240794,  1.85918471,\n",
    "       -2.0678061 ,  1.07378655, -0.49700978,  2.64458288, -2.46050518,\n",
    "        0.68108747, -0.88970886,  2.2518838 , -1.67510702,  1.46648563,\n",
    "       -0.10431069,  3.03728196, -2.95137904,  0.19021362, -1.38058271,\n",
    "        1.76100994, -2.16598087,  0.97561178, -0.59518455,  2.54640811])\n",
    "    DU=6378.136 #distance unit DU - Earth Radius [km]\n",
    "    TU=60*60*24 #806.78 #time unit TU\n",
    "    years=1 #integration years\n",
    "    days=365 #integration days\n",
    "    t0=0 #initial integration time\n",
    "    tf=3600*24*days*years/TU #final integration time\n",
    "    #Earth gravitational constant and radius:\n",
    "    mu_e=3.986*1e14*1e-9/DU**3*TU**2\n",
    "    R_e = 6378.136/DU\n",
    "\n",
    "    #upper and lower integration bounds:\n",
    "    LB_x=1.041#6600/DU\n",
    "    LB_y=-0.001\n",
    "    LB_z=-0.001\n",
    "    UB_x=1.049#6750/DU\n",
    "    UB_y=0.001\n",
    "    UB_z=0.001\n",
    "    \n",
    "    R_e = 6378.136/DU\n",
    "    mu_e=3.986*1e14*1e-9/DU**3*TU**2\n",
    "    m=200\n",
    "    A=50*1e-6/(DU**2)\n",
    "    Cd=2\n",
    "    \n",
    "    cos_L_list=np.cos(L_list)\n",
    "    sin_L_list=np.sin(L_list)\n",
    "\n",
    "    a=x[0]\n",
    "    P1=x[1]\n",
    "    P2=x[2]\n",
    "\n",
    "    B=np.sqrt(1-P1**2-P2**2)\n",
    "    b=a*B\n",
    "    n=np.sqrt(mu_e/(a**3))\n",
    "    h_factor=n*a*b\n",
    "    #print(f'shape P2:{P2.shape}')\n",
    "    #print(f'shape sinL:{sin_L_list.shape}')\n",
    "    D=np.sqrt(1+P1**2+P2**2+2*(P2*cos_L_list+P1*sin_L_list))\n",
    "    p_r=1+P1*sin_L_list+P2*cos_L_list\n",
    "    #print(p_r)\n",
    "\n",
    "    r_h=h_factor/(mu_e*(1+P1*sin_L_list+P2*cos_L_list))\n",
    "    Phi=1+P1*sin_L_list+P2*cos_L_list\n",
    "    p=a*(1-(P1**2+P2**2))\n",
    "    rho=1.225*np.exp(-(p/Phi-R_e-0.)*DU/7.249)*1e9*DU**3\n",
    "\n",
    "    a_r=-0.5 * rho * Cd * A/m * ( mu_e / a ) * (2 * Phi / B**2 - 1) * (P2 * sin_L_list - P1 * cos_L_list) / D\n",
    "    a_theta=-0.5 * rho * Cd * A/m * ( mu_e / a ) * (2 * Phi / B**2 - 1) * (1+P1*sin_L_list+P2*cos_L_list) / D \n",
    "    #I=jnp.sum(r_h*(-p_r*cos_L_list*a_r+(P1+(1+p_r)*sin_L_list)*a_theta)*((1-P1**2-P2**2)/(1+P1*sin_L_list+P2*cos_L_list))**2*1/(np.sqrt(1-P1**2-P2**2)))\n",
    "    da_dt=np.sum(2*a**2/h_factor* ( (P2*sin_L_list-P1*cos_L_list)*a_r + p_r*a_theta)*((1-P1**2-P2**2)/(1+P1*sin_L_list+P2*cos_L_list))**2*1/(np.sqrt(1-P1**2-P2**2)))/len(sin_L_list)#*2*np.pi\n",
    "    dP1_dt=np.sum(r_h*(-p_r*cos_L_list*a_r+(P1+(1+p_r)*sin_L_list)*a_theta)*((1-P1**2-P2**2)/(1+P1*sin_L_list+P2*cos_L_list))**2*1/(np.sqrt(1-P1**2-P2**2)))/len(sin_L_list)#*2*np.pi\n",
    "    dP2_dt=np.sum(r_h*(p_r*sin_L_list*a_r+(P2+(1+p_r)*cos_L_list)*a_theta)*((1-P1**2-P2**2)/(1+P1*sin_L_list+P2*cos_L_list))**2*1/(np.sqrt(1-P1**2-P2**2)))/len(sin_L_list)#*2*np.pi\n",
    "    return np.asarray(\n",
    "        [da_dt,\n",
    "         dP1_dt,\n",
    "         dP2_dt])\n",
    "\n",
    "@njit\n",
    "def G(x, t):\n",
    "    return np.array([[0.,0.,0.],[0.,1e-5/8,0.],[0.,0.,0.]])#np.array([[0.0,0.0], [0.0, 0.0]])#np.sqrt(2.0*sigma)]])\n"
   ]
  },
  {
   "cell_type": "markdown",
   "id": "583a8596",
   "metadata": {},
   "source": [
    "## Computing the extra diffusion term:\n",
    "\n",
    "That is:\n",
    "$\\bigg\\langle \\Phi_{i}, \\sum_{kl}\\dfrac{\\partial^2 D_{kl}\\Phi_j}{\\partial x_k \\partial x_l}\\bigg\\rangle$\n"
   ]
  },
  {
   "cell_type": "code",
   "execution_count": 35,
   "id": "bead8c55",
   "metadata": {},
   "outputs": [],
   "source": [
    "d_lk=(1e-5/8)**2/2"
   ]
  },
  {
   "cell_type": "code",
   "execution_count": 39,
   "id": "ebf5897e",
   "metadata": {},
   "outputs": [
    {
     "name": "stderr",
     "output_type": "stream",
     "text": [
      "  0%|                                                   | 0/10648 [00:00<?, ?it/s]/Users/ga00693/miniconda3/envs/phd_surrey/lib/python3.8/site-packages/torchquad/integration/utils.py:255: UserWarning: DEPRECATION WARNING: In future versions of torchquad, an array-like object will be returned.\n",
      "  warnings.warn(\n",
      "100%|███████████████████████████████████████| 10648/10648 [36:29<00:00,  4.86it/s]\n"
     ]
    }
   ],
   "source": [
    "MC_samples=int(1e4)\n",
    "trpz=Trapezoid()\n",
    "integrate_jit_compiled_parts=trpz.get_jit_compiled_integrate(1,MC_samples,backend='torch')\n",
    "\n",
    "diff_terms=torch.zeros((len(Indexes),len(Indexes)))\n",
    "for i in tqdm(range(len(Indexes))):\n",
    "\n",
    "    basis_a_i  = lambda x: bspline_basis(Indexes[i][0],3,knots_1,x)\n",
    "    basis_P1_i  = lambda x: bspline_basis(Indexes[i][1],3,knots_2,x)\n",
    "    basis_P2_i = lambda x: bspline_basis(Indexes[i][2],3,knots_3,x)\n",
    "    \n",
    "    for j in range(len(Indexes)):\n",
    "        if max(abs(Indexes[i]-Indexes[j]))<3:\n",
    "            basis_a_j   = lambda x: bspline_basis(Indexes[j][0],3,knots_1,x)\n",
    "            basis_P1_j   = lambda x: bspline_basis(Indexes[j][1],3,knots_2,x)\n",
    "            basis_P2_j  = lambda x: bspline_basis(Indexes[j][2],3,knots_3,x)\n",
    "            \n",
    "            \n",
    "            basis_ddP1_j  = lambda x: bspline_basis_second_deriv(Indexes[j][1],3,knots_2,x)\n",
    "            int_a_a=integrate_jit_compiled_parts(lambda x: basis_a_i(x)*basis_a_j(x), integration_domain[0].unsqueeze(0))\n",
    "            int_P1_ddP1=integrate_jit_compiled_parts(lambda x: basis_P1_i(x)*basis_ddP1_j(x), integration_domain[1].unsqueeze(0))\n",
    "            int_P2_P2=integrate_jit_compiled_parts(lambda x: basis_P2_i(x)*basis_P2_j(x), integration_domain[2].unsqueeze(0))\n",
    "            diff_terms[i,j]=int_P1_ddP1*int_a_a*int_P2_P2*d_lk            \n",
    "\n",
    "\n",
    "            "
   ]
  },
  {
   "cell_type": "code",
   "execution_count": 43,
   "id": "41582822",
   "metadata": {},
   "outputs": [],
   "source": [
    "#np.save('diff_terms_matrix',diff_terms)"
   ]
  },
  {
   "cell_type": "code",
   "execution_count": 16,
   "id": "44ea7fb0",
   "metadata": {},
   "outputs": [
    {
     "data": {
      "text/plain": [
       "<matplotlib.image.AxesImage at 0x15f6d0700>"
      ]
     },
     "execution_count": 16,
     "metadata": {},
     "output_type": "execute_result"
    },
    {
     "data": {
      "image/png": "[encoded data removed]",
      "text/plain": [
       "<Figure size 640x480 with 1 Axes>"
      ]
     },
     "metadata": {},
     "output_type": "display_data"
    }
   ],
   "source": [
    "plt.spy(diff_terms_matrix)"
   ]
  },
  {
   "cell_type": "code",
   "execution_count": 44,
   "id": "aa32a10a",
   "metadata": {},
   "outputs": [],
   "source": [
    "import scipy\n",
    "import scipy.io\n",
    "IntM=scipy.io.loadmat('Int_Matrix_QMC.mat')['Int']\n",
    "IntM=IntM.todense()"
   ]
  },
  {
   "cell_type": "code",
   "execution_count": 45,
   "id": "858f7e38",
   "metadata": {},
   "outputs": [],
   "source": [
    "InnerProdPhi=scipy.io.loadmat('InnerProdPhi.mat')['InnerProdPhi']\n",
    "InnerProdPhi=InnerProdPhi.todense()"
   ]
  },
  {
   "cell_type": "code",
   "execution_count": 53,
   "id": "936cf9f8",
   "metadata": {},
   "outputs": [],
   "source": [
    "IntM_diffusive=IntM+diff_terms"
   ]
  },
  {
   "cell_type": "markdown",
   "id": "f39344e9",
   "metadata": {},
   "source": [
    "## Initial a\n",
    "\n",
    "$a_{0,k}=\\langle \\Phi_k, p(x,t_0) \\rangle$"
   ]
  },
  {
   "cell_type": "code",
   "execution_count": 10,
   "id": "0b4a4b42",
   "metadata": {},
   "outputs": [],
   "source": [
    "mean=[1.045,0.0,0.0]\n",
    "cov=[[(0.5*1e-3)**2, 0.0, 0.0],[0.0, (1e-4)**2,0.0], [0.0, 0.0, (1e-4)**2]]\n",
    "\n",
    "multivar=torch.distributions.MultivariateNormal(loc=torch.tensor(mean),covariance_matrix=torch.tensor(cov))\n",
    "\n",
    "# Define a function that evaluates the PDF of the Gaussian distribution at a given point x\n",
    "def mvn_pdf(x):\n",
    "    return torch.exp(multivar.log_prob(x))"
   ]
  },
  {
   "cell_type": "code",
   "execution_count": 11,
   "id": "7774d41a",
   "metadata": {},
   "outputs": [],
   "source": [
    "MC_samples=int(1e5)\n",
    "trpz=Trapezoid()\n",
    "integrate_jit_compiled_parts_3d=trpz.get_jit_compiled_integrate(3,MC_samples,backend='torch')\n",
    "integrate_jit_compiled_parts=trpz.get_jit_compiled_integrate(1,int(1e4),backend='torch')"
   ]
  },
  {
   "cell_type": "code",
   "execution_count": 49,
   "id": "c7d6f8a6",
   "metadata": {},
   "outputs": [
    {
     "name": "stderr",
     "output_type": "stream",
     "text": [
      "100%|███████████████████████████████████████| 10648/10648 [08:24<00:00, 21.09it/s]\n"
     ]
    }
   ],
   "source": [
    "from tqdm import tqdm\n",
    "a_0k=[]\n",
    "Phi_i=[]\n",
    "for i in tqdm(range(len(Indexes))):\n",
    "    basis_a_i  = lambda x: bspline_basis(Indexes[i][0],3,knots_1,x)\n",
    "    basis_P1_i  = lambda x: bspline_basis(Indexes[i][1],3,knots_2,x)\n",
    "    basis_P2_i = lambda x: bspline_basis(Indexes[i][2],3,knots_3,x)\n",
    "\n",
    "    Phi_i.append(lambda x: basis_a_i(x[:,0])*basis_P1_i(x[:,1])*basis_P2_i(x[:,2])*mvn_pdf(x))\n",
    "    v=integrate_jit_compiled_parts_3d(Phi_i[-1],integration_domain)\n",
    "    a_0k.append(v)\n",
    "a_0k=np.array(a_0k)     \n",
    "a_0k=np.linalg.solve(InnerProdPhi,a_0k)\n"
   ]
  },
  {
   "cell_type": "code",
   "execution_count": 54,
   "id": "6e1b5cf8",
   "metadata": {},
   "outputs": [
    {
     "name": "stderr",
     "output_type": "stream",
     "text": [
      "100%|██████████████████████████████████████████| 51/51 [1:47:01<00:00, 125.92s/it]\n"
     ]
    }
   ],
   "source": [
    "# I compute the expm\n",
    "expm=np.linalg.solve(InnerProdPhi,IntM_diffusive)\n",
    "#and now the a_coefficients\n",
    "a_t=[]\n",
    "for i in tqdm(np.linspace(0,50*365,51)):\n",
    "    a_t.append(np.matmul(scipy.linalg.expm(expm*i),a_0k))\n",
    "    np.save(f'a_t_diffusive_{i}',a_t[-1])\n",
    "    "
   ]
  },
  {
   "cell_type": "code",
   "execution_count": 6,
   "id": "d3671226",
   "metadata": {},
   "outputs": [
    {
     "name": "stderr",
     "output_type": "stream",
     "text": [
      "100%|████████████████████████████████████████████| 51/51 [00:00<00:00, 131.71it/s]\n"
     ]
    }
   ],
   "source": [
    "from tqdm import tqdm\n",
    "a_t=[]\n",
    "for i in tqdm(np.linspace(0,50*365,51)):\n",
    "    a_t.append(np.load(f'a_t_diffusive_{i}.npy'))"
   ]
  },
  {
   "cell_type": "code",
   "execution_count": 7,
   "id": "790984d2",
   "metadata": {},
   "outputs": [],
   "source": [
    "def pdf_approx_integral(Indexes,a_coeff):\n",
    "    pdf_approx_integral=0\n",
    "    for i in range(len(Indexes)):\n",
    "        v1=integrate_jit_compiled_parts(lambda x: bspline_basis(Indexes[i][0],3,knots_1,x),integration_domain[0].unsqueeze(0))\n",
    "        v2=integrate_jit_compiled_parts(lambda x: bspline_basis(Indexes[i][1],3,knots_2,x),integration_domain[1].unsqueeze(0))\n",
    "        v3=integrate_jit_compiled_parts(lambda x: bspline_basis(Indexes[i][2],3,knots_3,x),integration_domain[2].unsqueeze(0))\n",
    "        pdf_approx_integral+=a_coeff[i]*v1*v2*v3\n",
    "    return pdf_approx_integral\n",
    "\n",
    "def pdf_approx_mean(Indexes,a_coeff):\n",
    "    mean_a=0\n",
    "    mean_P1=0\n",
    "    mean_P2=0\n",
    "    for i in range(len(Indexes)):\n",
    "        v1=integrate_jit_compiled_parts(lambda x: bspline_basis(Indexes[i][0],3,knots_1,x),integration_domain[0].unsqueeze(0))\n",
    "        v2=integrate_jit_compiled_parts(lambda x: bspline_basis(Indexes[i][1],3,knots_2,x),integration_domain[1].unsqueeze(0))\n",
    "        v3=integrate_jit_compiled_parts(lambda x: bspline_basis(Indexes[i][2],3,knots_3,x),integration_domain[2].unsqueeze(0))\n",
    "        v1a=integrate_jit_compiled_parts(lambda x: x*bspline_basis(Indexes[i][0],3,knots_1,x),integration_domain[0].unsqueeze(0))\n",
    "        v2P1=integrate_jit_compiled_parts(lambda x: x*bspline_basis(Indexes[i][1],3,knots_2,x),integration_domain[1].unsqueeze(0))\n",
    "        v3P2=integrate_jit_compiled_parts(lambda x: x*bspline_basis(Indexes[i][2],3,knots_3,x),integration_domain[2].unsqueeze(0))\n",
    "        mean_a+=a_coeff[i]*v1a*v2*v3\n",
    "        mean_P1+=a_coeff[i]*v1*v2P1*v3\n",
    "        mean_P2+=a_coeff[i]*v1*v2*v3P2\n",
    "    return [mean_a,mean_P1,mean_P2]"
   ]
  },
  {
   "cell_type": "code",
   "execution_count": 8,
   "id": "438e7517",
   "metadata": {},
   "outputs": [],
   "source": [
    "from scipy.stats import qmc\n",
    "sampler = qmc.Halton(d=3,scramble=False)\n",
    "halton_samples_3d = sampler.random(n=3500000)\n",
    "halton_samples_3d = qmc.scale(halton_samples_3d,integration_domain[:,0].numpy(),integration_domain[:,1].numpy())\n"
   ]
  },
  {
   "cell_type": "code",
   "execution_count": 9,
   "id": "c9b64483",
   "metadata": {},
   "outputs": [],
   "source": [
    "def pdf_approx(x, Indexes, a_coeff):\n",
    "    pdf_approx=0\n",
    "    for i in range(len(Indexes)):\n",
    "        pdf_approx+=a_coeff[i]*bspline_basis(Indexes[i][0],3,knots_1,x[:,0]).numpy()*bspline_basis(Indexes[i][1],3,knots_2,x[:,1]).numpy()*bspline_basis(Indexes[i][2],3,knots_3,x[:,2]).numpy()\n",
    "    return pdf_approx"
   ]
  },
  {
   "cell_type": "code",
   "execution_count": 102,
   "id": "4708abca",
   "metadata": {},
   "outputs": [],
   "source": [
    "means=np.array(means)\n",
    "np.save('means_w_diffusion',means)"
   ]
  },
  {
   "cell_type": "code",
   "execution_count": 134,
   "id": "37ed9e79",
   "metadata": {},
   "outputs": [
    {
     "name": "stderr",
     "output_type": "stream",
     "text": [
      "100%|█████████████████████████████████████████████| 31/31 [05:06<00:00,  9.89s/it]\n"
     ]
    }
   ],
   "source": [
    "integrals=[]\n",
    "for i in tqdm(range(31)):\n",
    "    integrals.append(pdf_approx_integral(Indexes,a_t[i]))\n",
    "integrals=np.array(integrals)\n",
    "np.save(\"integrals_diff\",integrals)"
   ]
  },
  {
   "cell_type": "code",
   "execution_count": 138,
   "id": "7e6857fc",
   "metadata": {},
   "outputs": [
    {
     "data": {
      "text/plain": [
       "[<matplotlib.lines.Line2D at 0x2803705b0>]"
      ]
     },
     "execution_count": 138,
     "metadata": {},
     "output_type": "execute_result"
    },
    {
     "data": {
      "image/png": "[encoded data removed]",
      "text/plain": [
       "<Figure size 640x480 with 1 Axes>"
      ]
     },
     "metadata": {},
     "output_type": "display_data"
    }
   ],
   "source": [
    "plt.plot(integrals,'-*')"
   ]
  },
  {
   "cell_type": "code",
   "execution_count": 10,
   "id": "b294dec4",
   "metadata": {},
   "outputs": [],
   "source": [
    "def compute_hellinger(p,q):\n",
    "    val=0\n",
    "    for i in range(len(p)):\n",
    "        val+=(np.sqrt(p[i])-np.sqrt(q[i]))**2\n",
    "    return 1/np.sqrt(2)*np.sqrt(val)\n",
    "\n",
    "def compute_kl(p,q):\n",
    "    kl_div=0\n",
    "    for i in range(len(p)):\n",
    "        kl_div+=p[i]*np.log(p[i]/q[i])\n",
    "    return kl_div"
   ]
  }
 ],
 "metadata": {
  "kernelspec": {
   "display_name": "Python 3 (ipykernel)",
   "language": "python",
   "name": "python3"
  },
  "language_info": {
   "codemirror_mode": {
    "name": "ipython",
    "version": 3
   },
   "file_extension": ".py",
   "mimetype": "text/x-python",
   "name": "python",
   "nbconvert_exporter": "python",
   "pygments_lexer": "ipython3",
   "version": "3.11.4"
  }
 },
 "nbformat": 4,
 "nbformat_minor": 5
}
